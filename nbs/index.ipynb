{
 "cells": [
  {
   "cell_type": "code",
   "execution_count": null,
   "metadata": {},
   "outputs": [
    {
     "name": "stdout",
     "output_type": "stream",
     "text": [
      "The autoreload extension is already loaded. To reload it, use:\n",
      "  %reload_ext autoreload\n"
     ]
    }
   ],
   "source": [
    "#| hide\n",
    "%load_ext autoreload\n",
    "%autoreload 2\n",
    "from vsdx_rdf.core import Client"
   ]
  },
  {
   "cell_type": "markdown",
   "metadata": {},
   "source": [
    "# vsdx-rdf\n",
    "\n",
    "> "
   ]
  },
  {
   "cell_type": "markdown",
   "metadata": {},
   "source": [
    "vsdx-rdf is a Python library for extracting RDF data from Visio files (.vsdx). It is based on the [vsdx](https://pypi.org/project/vsdx/) library, which is a Python library for reading and writing Visio files."
   ]
  },
  {
   "cell_type": "markdown",
   "metadata": {},
   "source": [
    "## Install"
   ]
  },
  {
   "cell_type": "markdown",
   "metadata": {},
   "source": [
    "```sh\n",
    "pip install git+https://github.com/nakamura196/vsdx-rdf.git\n",
    "```"
   ]
  },
  {
   "cell_type": "markdown",
   "metadata": {},
   "source": [
    "## How to use"
   ]
  },
  {
   "cell_type": "markdown",
   "metadata": {},
   "source": [
    "In the following example, we extract RDF data from a Visio file and print it."
   ]
  },
  {
   "cell_type": "code",
   "execution_count": null,
   "metadata": {},
   "outputs": [
    {
     "name": "stdout",
     "output_type": "stream",
     "text": [
      "Processing: ./data/input/sample/ex.vsdx\n"
     ]
    }
   ],
   "source": [
    "INPUT_FILE = \"./data/input/sample/*.vsdx\"\n",
    "OUTPUT_FILE = \"./data/output\"\n",
    "\n",
    "Client.convert(INPUT_FILE, OUTPUT_FILE)"
   ]
  },
  {
   "cell_type": "markdown",
   "metadata": {},
   "source": [
    "`is_download` is a flag that specifies whether to download the linked RDF data. If `is_download` is `True`, the linked RDF data is downloaded and stored in output files."
   ]
  },
  {
   "cell_type": "code",
   "execution_count": null,
   "metadata": {},
   "outputs": [
    {
     "name": "stdout",
     "output_type": "stream",
     "text": [
      "Processing: ./data/input/sample/ex.vsdx\n"
     ]
    }
   ],
   "source": [
    "INPUT_FILE = \"./data/input/sample/*.vsdx\"\n",
    "OUTPUT_FILE = \"./data/output_extra\"\n",
    "\n",
    "Client.convert(INPUT_FILE, OUTPUT_FILE, is_download=True)"
   ]
  }
 ],
 "metadata": {
  "kernelspec": {
   "display_name": "python3",
   "language": "python",
   "name": "python3"
  }
 },
 "nbformat": 4,
 "nbformat_minor": 4
}
