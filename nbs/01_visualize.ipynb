{
 "cells": [
  {
   "cell_type": "markdown",
   "metadata": {},
   "source": [
    "# visualize\n",
    "\n",
    "> This is a visualization tool."
   ]
  },
  {
   "cell_type": "code",
   "execution_count": null,
   "metadata": {},
   "outputs": [],
   "source": [
    "#| default_exp visualize"
   ]
  },
  {
   "cell_type": "code",
   "execution_count": null,
   "metadata": {},
   "outputs": [],
   "source": [
    "#| hide\n",
    "from nbdev.showdoc import *"
   ]
  },
  {
   "cell_type": "code",
   "execution_count": null,
   "metadata": {},
   "outputs": [],
   "source": [
    "#| export\n",
    "import os\n",
    "import requests"
   ]
  },
  {
   "cell_type": "code",
   "execution_count": null,
   "metadata": {},
   "outputs": [],
   "source": [
    "#| export\n",
    "class VisualizeClient:\n",
    "    @staticmethod\n",
    "    def graph_draw_by_kanzaki(text, output_path, gtype=\"png\"):\n",
    "        \"\"\"\n",
    "        指定されたRDF/Turtle形式のテキストデータをグラフとして可視化し、結果をPNGファイルとして保存します。\n",
    "        \n",
    "        Args:\n",
    "            text (str): RDFデータを表すテキスト、Turtle形式。\n",
    "            output_path (str): 生成されたPNGファイルの保存先パス。\n",
    "        \"\"\"\n",
    "\n",
    "        # POSTリクエストに必要なデータ\n",
    "        url = \"https://www.kanzaki.com/works/2009/pub/graph-draw\"\n",
    "\n",
    "        data = {\n",
    "            \"RDF\": text,\n",
    "            \"rtype\": \"turtle\",\n",
    "            \"gtype\": gtype, # \"png\",\n",
    "            \"rankdir\": \"lr\",\n",
    "            \"qname\": \"on\",\n",
    "        }\n",
    "\n",
    "        # POSTリクエストを送信\n",
    "        response = requests.post(url, data=data)\n",
    "\n",
    "        if gtype == \"svg\":\n",
    "            os.makedirs(os.path.dirname(output_path), exist_ok=True)\n",
    "            # 応答をSVGファイルとして保存\n",
    "            with open(output_path, 'w') as f:\n",
    "                f.write(response.text)\n",
    "\n",
    "        # 応答がPNG画像でない場合、内容を確認\n",
    "        elif response.headers['Content-Type'] != 'image/png':\n",
    "            print(\"応答はPNG画像ではありません。\")\n",
    "            # print(response.text[:500])  # 最初の500文字を表示 # [:500]\n",
    "        \n",
    "        else:\n",
    "            os.makedirs(os.path.dirname(output_path), exist_ok=True)\n",
    "            # 応答をPNGファイルとして保存\n",
    "            with open(output_path, 'wb') as f:\n",
    "                f.write(response.content)\n"
   ]
  },
  {
   "cell_type": "code",
   "execution_count": null,
   "metadata": {},
   "outputs": [
    {
     "data": {
      "text/markdown": [
       "---\n",
       "\n",
       "[source](https://github.com/nakamura196/vsdx-rdf/blob/main/vsdx_rdf/visualize.py#L13){target=\"_blank\" style=\"float:right; font-size:smaller\"}\n",
       "\n",
       "### VisualizeClient.graph_draw_by_kanzaki\n",
       "\n",
       ">      VisualizeClient.graph_draw_by_kanzaki (text, output_path, gtype='png')\n",
       "\n",
       "*指定されたRDF/Turtle形式のテキストデータをグラフとして可視化し、結果をPNGファイルとして保存します。\n",
       "\n",
       "Args:\n",
       "    text (str): RDFデータを表すテキスト、Turtle形式。\n",
       "    output_path (str): 生成されたPNGファイルの保存先パス。*"
      ],
      "text/plain": [
       "---\n",
       "\n",
       "[source](https://github.com/nakamura196/vsdx-rdf/blob/main/vsdx_rdf/visualize.py#L13){target=\"_blank\" style=\"float:right; font-size:smaller\"}\n",
       "\n",
       "### VisualizeClient.graph_draw_by_kanzaki\n",
       "\n",
       ">      VisualizeClient.graph_draw_by_kanzaki (text, output_path, gtype='png')\n",
       "\n",
       "*指定されたRDF/Turtle形式のテキストデータをグラフとして可視化し、結果をPNGファイルとして保存します。\n",
       "\n",
       "Args:\n",
       "    text (str): RDFデータを表すテキスト、Turtle形式。\n",
       "    output_path (str): 生成されたPNGファイルの保存先パス。*"
      ]
     },
     "execution_count": null,
     "metadata": {},
     "output_type": "execute_result"
    }
   ],
   "source": [
    "show_doc(VisualizeClient.graph_draw_by_kanzaki)"
   ]
  },
  {
   "cell_type": "code",
   "execution_count": null,
   "metadata": {},
   "outputs": [],
   "source": [
    "#| hide\n",
    "import nbdev; nbdev.nbdev_export()"
   ]
  }
 ],
 "metadata": {
  "kernelspec": {
   "display_name": "python3",
   "language": "python",
   "name": "python3"
  }
 },
 "nbformat": 4,
 "nbformat_minor": 4
}
