{
 "cells": [
  {
   "cell_type": "markdown",
   "metadata": {},
   "source": [
    "# visualize\n",
    "\n",
    "> Fill in a module description here"
   ]
  },
  {
   "cell_type": "code",
   "execution_count": 7,
   "metadata": {},
   "outputs": [],
   "source": [
    "#| default_exp visualize"
   ]
  },
  {
   "cell_type": "code",
   "execution_count": 8,
   "metadata": {},
   "outputs": [],
   "source": [
    "#| hide\n",
    "from nbdev.showdoc import *"
   ]
  },
  {
   "cell_type": "code",
   "execution_count": 9,
   "metadata": {},
   "outputs": [],
   "source": [
    "#| export\n",
    "import os\n",
    "import requests"
   ]
  },
  {
   "cell_type": "code",
   "execution_count": 10,
   "metadata": {},
   "outputs": [],
   "source": [
    "#| export\n",
    "class VisualizeClient:\n",
    "    @staticmethod\n",
    "    def graph_draw_by_kanzaki(text, output_path):\n",
    "        \"\"\"\n",
    "        指定されたRDF/Turtle形式のテキストデータをグラフとして可視化し、結果をPNGファイルとして保存します。\n",
    "        \n",
    "        Args:\n",
    "            text (str): RDFデータを表すテキスト、Turtle形式。\n",
    "            output_path (str): 生成されたPNGファイルの保存先パス。\n",
    "        \"\"\"\n",
    "\n",
    "        # POSTリクエストに必要なデータ\n",
    "        url = \"https://www.kanzaki.com/works/2009/pub/graph-draw\"\n",
    "\n",
    "        data = {\n",
    "            \"RDF\": text,\n",
    "            \"rtype\": \"turtle\",\n",
    "            \"gtype\": \"png\",\n",
    "            \"rankdir\": \"lr\",\n",
    "            \"qname\": \"on\",\n",
    "        }\n",
    "\n",
    "        # POSTリクエストを送信\n",
    "        response = requests.post(url, data=data)\n",
    "\n",
    "        # 応答がPNG画像でない場合、内容を確認\n",
    "        if response.headers['Content-Type'] != 'image/png':\n",
    "            print(\"応答はPNG画像ではありません。内容を表示します:\")\n",
    "            # print(response.text[:500])  # 最初の500文字を表示 # [:500]\n",
    "        else:\n",
    "            os.makedirs(os.path.dirname(output_path), exist_ok=True)\n",
    "            # 応答をPNGファイルとして保存\n",
    "            with open(output_path, 'wb') as f:\n",
    "                f.write(response.content)\n"
   ]
  },
  {
   "cell_type": "code",
   "execution_count": 11,
   "metadata": {},
   "outputs": [
    {
     "data": {
      "text/markdown": [
       "---\n",
       "\n",
       "[source](https://github.com/nakamura196/vsdx-rdf/blob/main/vsdx_rdf/visualize.py#L19){target=\"_blank\" style=\"float:right; font-size:smaller\"}\n",
       "\n",
       "### VisualizeClient.visualize\n",
       "\n",
       ">      VisualizeClient.visualize (text, output_path)"
      ],
      "text/plain": [
       "---\n",
       "\n",
       "[source](https://github.com/nakamura196/vsdx-rdf/blob/main/vsdx_rdf/visualize.py#L19){target=\"_blank\" style=\"float:right; font-size:smaller\"}\n",
       "\n",
       "### VisualizeClient.visualize\n",
       "\n",
       ">      VisualizeClient.visualize (text, output_path)"
      ]
     },
     "execution_count": 11,
     "metadata": {},
     "output_type": "execute_result"
    }
   ],
   "source": [
    "show_doc(VisualizeClient.graph_draw_by_kanzaki)"
   ]
  },
  {
   "cell_type": "code",
   "execution_count": 12,
   "metadata": {},
   "outputs": [],
   "source": [
    "#| hide\n",
    "import nbdev; nbdev.nbdev_export()"
   ]
  }
 ],
 "metadata": {
  "kernelspec": {
   "display_name": "python3",
   "language": "python",
   "name": "python3"
  },
  "language_info": {
   "codemirror_mode": {
    "name": "ipython",
    "version": 3
   },
   "file_extension": ".py",
   "mimetype": "text/x-python",
   "name": "python",
   "nbconvert_exporter": "python",
   "pygments_lexer": "ipython3",
   "version": "3.9.11"
  }
 },
 "nbformat": 4,
 "nbformat_minor": 4
}
