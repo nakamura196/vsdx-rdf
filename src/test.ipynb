{
 "cells": [
  {
   "cell_type": "code",
   "execution_count": 2,
   "metadata": {},
   "outputs": [],
   "source": [
    "%load_ext autoreload\n",
    "%autoreload 2\n",
    "from vsdx_rdf.core import Client\n",
    "from glob import glob"
   ]
  },
  {
   "cell_type": "code",
   "execution_count": 19,
   "metadata": {},
   "outputs": [
    {
     "name": "stdout",
     "output_type": "stream",
     "text": [
      "/Users/nakamura/Library/CloudStorage/OneDrive-TheUniversityofTokyo/visio/input/sample/図面.vsdx\n",
      "----- resultsByPage -----\n",
      "{0: {'edges': {'3': {'from': '1', 'name': 'foaf:topic_interest', 'to': '2'},\n",
      "               '5': {'from': '2', 'name': 'dcterms:title', 'to': '4'},\n",
      "               '7': {'from': '1', 'name': 'knows', 'to': '6'},\n",
      "               '9': {'from': '1',\n",
      "                     'name': 'http://example.org/type',\n",
      "                     'to': '8'}},\n",
      "     'nodes': {'1': {'name': 'BOB', 'type': 'resource'},\n",
      "               '12': {'name': 'リソース', 'type': 'resource'},\n",
      "               '14': {'name': 'リテラル', 'type': 'literal'},\n",
      "               '2': {'name': 'http://www.wikidata.org/entity/Q12418',\n",
      "                     'type': 'resource'},\n",
      "               '4': {'name': 'Mona Lisa', 'type': 'literal'},\n",
      "               '6': {'name': 'Alice', 'type': 'resource'},\n",
      "               '8': {'name': 'foaf:Person', 'type': 'resource'}},\n",
      "     'title': 'ページ - 1'}}\n",
      "-------------------------\n",
      "name BOB\n",
      "name http://www.wikidata.org/entity/Q12418\n",
      "name Alice\n",
      "name foaf:Person\n",
      "name リソース\n"
     ]
    }
   ],
   "source": [
    "# files = glob(\"/Users/nakamura/Library/CloudStorage/OneDrive-TheUniversityofTokyo/visio/**/*.vsdx\", recursive=True)\n",
    "\n",
    "files = glob(\"/Users/nakamura/Library/CloudStorage/OneDrive-TheUniversityofTokyo/visio/input/sample/**/*.vsdx\", recursive=True)\n",
    "\n",
    "files.sort()\n",
    "\n",
    "for filename in files:\n",
    "    print(filename)\n",
    "\n",
    "    if \"佐川\" not in filename:\n",
    "        # continue\n",
    "        pass\n",
    "\n",
    "    output_dir = \"/Users/nakamura/Library/CloudStorage/OneDrive-TheUniversityofTokyo/visio/output/\" + filename.split('/')[-2] + \"/\" + filename.split('/')[-1].replace('.vsdx', '')\n",
    "    Client.main(filename, output_dir , verbose=True) # False\n",
    "    # , page=1 \n",
    "    # break"
   ]
  },
  {
   "cell_type": "code",
   "execution_count": 4,
   "metadata": {},
   "outputs": [],
   "source": [
    "'''\n",
    "import rdflib\n",
    "from pyvis.network import Network\n",
    "\n",
    "# TTLファイルを読み込む\n",
    "g = rdflib.Graph()\n",
    "g.parse(\"/Users/nakamura/git/oi/vx/src/output/ishiguro/ページ - 2.ttl\", format=\"turtle\")\n",
    "\n",
    "# pyvisネットワークを初期化\n",
    "net = Network(notebook=True)\n",
    "\n",
    "# RDFグラフからノードとエッジを追加\n",
    "for subj, pred, obj in g:\n",
    "    subj = str(subj)\n",
    "    pred = str(pred)\n",
    "    obj = str(obj)\n",
    "\n",
    "    net.add_node(subj, title=subj)\n",
    "    net.add_node(obj, title=obj)\n",
    "    net.add_edge(subj, obj, title=pred)\n",
    "\n",
    "# ネットワークを表示\n",
    "net.show(\"graph.html\")\n",
    "'''\n",
    "pass"
   ]
  }
 ],
 "metadata": {
  "kernelspec": {
   "display_name": ".venv",
   "language": "python",
   "name": "python3"
  },
  "language_info": {
   "codemirror_mode": {
    "name": "ipython",
    "version": 3
   },
   "file_extension": ".py",
   "mimetype": "text/x-python",
   "name": "python",
   "nbconvert_exporter": "python",
   "pygments_lexer": "ipython3",
   "version": "3.9.11"
  }
 },
 "nbformat": 4,
 "nbformat_minor": 2
}
