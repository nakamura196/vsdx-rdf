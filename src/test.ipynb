{
 "cells": [
  {
   "cell_type": "code",
   "execution_count": 92,
   "metadata": {},
   "outputs": [
    {
     "name": "stdout",
     "output_type": "stream",
     "text": [
      "The autoreload extension is already loaded. To reload it, use:\n",
      "  %reload_ext autoreload\n"
     ]
    }
   ],
   "source": [
    "%load_ext autoreload\n",
    "%autoreload 2\n",
    "from vsdx_rdf.core import Client\n",
    "from glob import glob"
   ]
  },
  {
   "cell_type": "code",
   "execution_count": 93,
   "metadata": {},
   "outputs": [
    {
     "name": "stdout",
     "output_type": "stream",
     "text": [
      "/Users/nakamura/Library/CloudStorage/OneDrive-TheUniversityofTokyo/visio/input/2024-06-06/1-2(4)　石黒 真織.vsdx\n",
      "bbb\n",
      "/Users/nakamura/Library/CloudStorage/OneDrive-TheUniversityofTokyo/visio/input/2024-06-06/佐川.vsdx\n",
      "日本のジェンダーギャップがここまで\n",
      "to not found\n",
      "/Users/nakamura/Library/CloudStorage/OneDrive-TheUniversityofTokyo/visio/input/2024-06-06/川久保.vsdx\n",
      "to not found\n"
     ]
    }
   ],
   "source": [
    "# filename = 'sample2.vsdx'\n",
    "# \"output/sample2\"\n",
    "\n",
    "files = glob(\"/Users/nakamura/Library/CloudStorage/OneDrive-TheUniversityofTokyo/visio/**/*.vsdx\", recursive=True)\n",
    "\n",
    "'''\n",
    "# filename = \"/Users/nakamura/git/oi/vx/src/data/1-2(4)　石黒 真織.vsdx\"\n",
    "filename = \"/Users/nakamura/Library/CloudStorage/OneDrive-TheUniversityofTokyo/visio/1-2(4)　石黒 真織.vsdx\"\n",
    "output_dir = \"output/ishiguro\"\n",
    "\n",
    "# filename = \"/Users/nakamura/git/oi/vx/src/data/佐川.vsdx\"\n",
    "# filename = \"/Users/nakamura/Library/CloudStorage/OneDrive-TheUniversityofTokyo/visio/佐川.vsdx\"\n",
    "# output_dir = \"output/sagawa\"\n",
    "\n",
    "# filename = \"/Users/nakamura/git/oi/vx/src/data/川久保.vsdx\"\n",
    "# output_dir = \"output/kawakubo\"\n",
    "\n",
    "# open a visio file\n",
    "# with VisioFile(filename) as vis:\n",
    "\n",
    "# vis = VisioFile(filename)\n",
    "\n",
    "# c = Client(filename)\n",
    "# Client.main(filename, output_dir , verbose=True) # page=0, \n",
    "Client.main(filename, output_dir , verbose=True, page=1) \n",
    "\n",
    "'''\n",
    "\n",
    "files.sort()\n",
    "\n",
    "for filename in files:\n",
    "    print(filename)\n",
    "\n",
    "    if \"佐川\" not in filename:\n",
    "        # continue\n",
    "        pass\n",
    "\n",
    "    output_dir = \"/Users/nakamura/Library/CloudStorage/OneDrive-TheUniversityofTokyo/visio/output/\" + filename.split('/')[-2] + \"/\" + filename.split('/')[-1].replace('.vsdx', '')\n",
    "    Client.main(filename, output_dir , verbose=True) # False\n",
    "    # , page=1 \n",
    "    # break"
   ]
  },
  {
   "cell_type": "code",
   "execution_count": 94,
   "metadata": {},
   "outputs": [],
   "source": [
    "'''\n",
    "import rdflib\n",
    "from pyvis.network import Network\n",
    "\n",
    "# TTLファイルを読み込む\n",
    "g = rdflib.Graph()\n",
    "g.parse(\"/Users/nakamura/git/oi/vx/src/output/ishiguro/ページ - 2.ttl\", format=\"turtle\")\n",
    "\n",
    "# pyvisネットワークを初期化\n",
    "net = Network(notebook=True)\n",
    "\n",
    "# RDFグラフからノードとエッジを追加\n",
    "for subj, pred, obj in g:\n",
    "    subj = str(subj)\n",
    "    pred = str(pred)\n",
    "    obj = str(obj)\n",
    "\n",
    "    net.add_node(subj, title=subj)\n",
    "    net.add_node(obj, title=obj)\n",
    "    net.add_edge(subj, obj, title=pred)\n",
    "\n",
    "# ネットワークを表示\n",
    "net.show(\"graph.html\")\n",
    "'''\n",
    "pass"
   ]
  }
 ],
 "metadata": {
  "kernelspec": {
   "display_name": ".venv",
   "language": "python",
   "name": "python3"
  },
  "language_info": {
   "codemirror_mode": {
    "name": "ipython",
    "version": 3
   },
   "file_extension": ".py",
   "mimetype": "text/x-python",
   "name": "python",
   "nbconvert_exporter": "python",
   "pygments_lexer": "ipython3",
   "version": "3.9.11"
  }
 },
 "nbformat": 4,
 "nbformat_minor": 2
}
